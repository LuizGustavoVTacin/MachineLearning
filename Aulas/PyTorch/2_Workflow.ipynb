{
  "cells": [
    {
      "cell_type": "markdown",
      "metadata": {
        "id": "mv6IYr00h4Hc"
      },
      "source": [
        "# PyTorch Workflow\n",
        "\n",
        "1. Prepare and Load the Data\n",
        "2. Building a Model\n",
        "3. Fitting the Model to Data (Training)\n",
        "4. Making Predictions and Evaluating the Model (Inference)\n",
        "5. Saving and Loading a Model"
      ]
    },
    {
      "cell_type": "code",
      "execution_count": 186,
      "metadata": {
        "colab": {
          "base_uri": "https://localhost:8080/",
          "height": 35
        },
        "id": "pPYRjOX0gYVt",
        "outputId": "2872cb1b-bc68-4127-baaa-f8443b8eae32"
      },
      "outputs": [
        {
          "output_type": "execute_result",
          "data": {
            "text/plain": [
              "'2.0.1+cu118'"
            ],
            "application/vnd.google.colaboratory.intrinsic+json": {
              "type": "string"
            }
          },
          "metadata": {},
          "execution_count": 186
        }
      ],
      "source": [
        "import torch\n",
        "from torch import nn # Import all the resources for Neural Network\n",
        "import matplotlib.pyplot as plt\n",
        "import numpy as np\n",
        "\n",
        "torch.__version__"
      ]
    },
    {
      "cell_type": "markdown",
      "metadata": {
        "id": "DKRuOW8sixVk"
      },
      "source": [
        "## Data (Preparing and Loading)\n",
        "\n",
        "Data can be almost anything in machine learning\n",
        "\n",
        "* Excel spreadsheet\n",
        "* Images\n",
        "* Videos\n",
        "* Audio\n",
        "* DNA\n",
        "* Text"
      ]
    },
    {
      "cell_type": "code",
      "execution_count": 187,
      "metadata": {
        "colab": {
          "base_uri": "https://localhost:8080/"
        },
        "id": "PtY_Z2GtmKs1",
        "outputId": "92bf52f3-8c3d-4e39-9b26-5b478c3a187c"
      },
      "outputs": [
        {
          "output_type": "execute_result",
          "data": {
            "text/plain": [
              "(tensor([[0.0000],\n",
              "         [0.0200],\n",
              "         [0.0400],\n",
              "         [0.0600],\n",
              "         [0.0800],\n",
              "         [0.1000],\n",
              "         [0.1200],\n",
              "         [0.1400],\n",
              "         [0.1600],\n",
              "         [0.1800]]),\n",
              " tensor([[0.3000],\n",
              "         [0.3140],\n",
              "         [0.3280],\n",
              "         [0.3420],\n",
              "         [0.3560],\n",
              "         [0.3700],\n",
              "         [0.3840],\n",
              "         [0.3980],\n",
              "         [0.4120],\n",
              "         [0.4260]]))"
            ]
          },
          "metadata": {},
          "execution_count": 187
        }
      ],
      "source": [
        "# Create *known* parameters\n",
        "\n",
        "weight = 0.7\n",
        "bias = 0.3\n",
        "\n",
        "# Create\n",
        "start = 0\n",
        "end = 1\n",
        "step = 0.02\n",
        "X = torch.arange(start, end, step).unsqueeze(dim=1)\n",
        "y = weight * X + bias\n",
        "\n",
        "X[:10], y[:10]"
      ]
    },
    {
      "cell_type": "code",
      "execution_count": 188,
      "metadata": {
        "colab": {
          "base_uri": "https://localhost:8080/"
        },
        "id": "BJh1VtECno6M",
        "outputId": "a2ca74f7-f43a-4805-d574-b6649b2182a6"
      },
      "outputs": [
        {
          "output_type": "execute_result",
          "data": {
            "text/plain": [
              "(50, 50)"
            ]
          },
          "metadata": {},
          "execution_count": 188
        }
      ],
      "source": [
        "len(X), len(y)"
      ]
    },
    {
      "cell_type": "markdown",
      "metadata": {
        "id": "AGqFNEf3oJFD"
      },
      "source": [
        "## Spliting Data into training and test"
      ]
    },
    {
      "cell_type": "code",
      "execution_count": 189,
      "metadata": {
        "colab": {
          "base_uri": "https://localhost:8080/"
        },
        "id": "zXRNY_FeoOwD",
        "outputId": "60f4d4f3-9045-4f1f-fc5e-32691e40d8f6"
      },
      "outputs": [
        {
          "output_type": "execute_result",
          "data": {
            "text/plain": [
              "(40, 40, 10, 10)"
            ]
          },
          "metadata": {},
          "execution_count": 189
        }
      ],
      "source": [
        "# Create a train/test split\n",
        "\n",
        "train_split = int(0.8 * len(X))\n",
        "X_train, y_train = X[:train_split], y[:train_split]\n",
        "X_test, y_test = X[train_split:], y[train_split:]\n",
        "\n",
        "len(X_train), len(y_train), len(X_test), len(y_test)"
      ]
    },
    {
      "cell_type": "markdown",
      "metadata": {
        "id": "_98iQVRtpqxk"
      },
      "source": [
        "## Visualizing our Data"
      ]
    },
    {
      "cell_type": "code",
      "execution_count": 190,
      "metadata": {
        "id": "agb0Xtoup5Ou"
      },
      "outputs": [],
      "source": [
        "def plot_predictions(train_data = X_train,\n",
        "                     train_labels = y_train,\n",
        "                     test_data = X_test,\n",
        "                     test_labels = y_test,\n",
        "                     predictions = None):\n",
        "\n",
        "  plt.figure(figsize = (10,7))\n",
        "  plt.scatter(train_data, train_labels, c= \"b\", s=4, label=\"Training Data\")\n",
        "  plt.scatter(test_data, test_labels, c=\"g\", s=4, label=\"Testing Data\")\n",
        "  if predictions is not None:\n",
        "    plt.scatter(test_data, predictions, c=\"r\", s=4, label=\"Predictions\")\n",
        "  plt.legend(prop={\"size\": 14})"
      ]
    },
    {
      "cell_type": "code",
      "execution_count": 191,
      "metadata": {
        "colab": {
          "base_uri": "https://localhost:8080/",
          "height": 599
        },
        "id": "xA_r9SbYpuBu",
        "outputId": "9910b788-4c57-4f50-a303-52d7d8f6a851"
      },
      "outputs": [
        {
          "output_type": "display_data",
          "data": {
            "text/plain": [
              "<Figure size 1000x700 with 1 Axes>"
            ],
            "image/png": "[encoded data removed]"
          },
          "metadata": {}
        }
      ],
      "source": [
        "plot_predictions(X_train, y_train)"
      ]
    },
    {
      "cell_type": "markdown",
      "metadata": {
        "id": "vz3-uAJYrnM3"
      },
      "source": [
        "## Build a PyTorch Model\n",
        "\n",
        "The weights and bias will be adjustement through backpropagation and gradient descent algorithms"
      ]
    },
    {
      "cell_type": "code",
      "execution_count": 192,
      "metadata": {
        "id": "aGh7BL6irqAF"
      },
      "outputs": [],
      "source": [
        "# Create linear regression model class\n",
        "from torch import nn\n",
        "\n",
        "class LinearRegressionModel(nn.Module): # Almost everything in PyTorch inherhits from nn.module\n",
        "  def __init__(self):\n",
        "    super().__init__()\n",
        "    self.weights = nn.Parameter(torch.randn(1,\n",
        "                                            requires_grad = True,  # Use Gradient Descent\n",
        "                                            dtype = torch.float))\n",
        "    self.bias = nn.Parameter(torch.randn(1, requires_grad = True,\n",
        "                                         dtype = torch.float))\n",
        "  def forward (self, x: torch.Tensor) -> torch.Tensor: #\"x\" the input data\n",
        "    return self.weights * x + self.bias"
      ]
    },
    {
      "cell_type": "markdown",
      "metadata": {
        "id": "ZZjEUBy50Hfc"
      },
      "source": [
        "## PyTorch Model Building Essntials\n",
        "\n",
        "[PyTorch Cheat Sheet](https://pytorch.org/tutorials/beginner/ptcheat.html#pytorch-cheat-sheet)\n",
        "\n",
        "* **torch.nn** - Contains all of the buildings for computional graphs (Neural Netowrks can be considered a Computional grpahs)\n",
        "\n",
        "* **torch.nn.Parameter** - What parameters should our model try and learn, often a PyTorch layer from torch.\n",
        "\n",
        "* **torch.nn.Module** - The base class for NN modules, if you subclass it, you should overwrite forward()\n",
        "\n",
        "* **torch.optim** - Optimizers in PyTorch, they will help with gradient descent\n",
        "\n",
        "* **def forward()** - All nn.Module subclasses rwquire you to overwrite forward(), this method defines what happens in the forward computation\n",
        "\n",
        "![image.png](attachment:image.png)"
      ]
    },
    {
      "cell_type": "markdown",
      "metadata": {
        "id": "ULLajFQA0hWF"
      },
      "source": [
        "## Checking the contents of our PyTorch model\n",
        "\n",
        "if we want to check out model parameters or whats inside our model, use .parameters()"
      ]
    },
    {
      "cell_type": "code",
      "execution_count": 193,
      "metadata": {
        "colab": {
          "base_uri": "https://localhost:8080/"
        },
        "id": "kTrhuBYx0WQX",
        "outputId": "81dac6c3-f523-4e6c-c6cc-af1c6f7789ca"
      },
      "outputs": [
        {
          "output_type": "stream",
          "name": "stdout",
          "text": [
            "[Parameter containing:\n",
            "tensor([0.3367], requires_grad=True), Parameter containing:\n",
            "tensor([0.1288], requires_grad=True)]\n",
            "OrderedDict([('weights', tensor([0.3367])), ('bias', tensor([0.1288]))])\n"
          ]
        }
      ],
      "source": [
        "# Create a random seed\n",
        "\n",
        "torch.manual_seed(42)\n",
        "\n",
        "# Create an instance of the model\n",
        "\n",
        "model_0 = LinearRegressionModel()\n",
        "print(list(model_0.parameters()))\n",
        "print(model_0.state_dict())"
      ]
    },
    {
      "cell_type": "markdown",
      "metadata": {
        "id": "vzpydRhp1_hc"
      },
      "source": [
        "## Making prediction using \"torch.inference_mode()"
      ]
    },
    {
      "cell_type": "code",
      "execution_count": 194,
      "metadata": {
        "colab": {
          "base_uri": "https://localhost:8080/",
          "height": 599
        },
        "id": "W9jTVwQO2NHu",
        "outputId": "b04ad7f4-6290-47ee-d34d-ce31ea6c56a6"
      },
      "outputs": [
        {
          "output_type": "display_data",
          "data": {
            "text/plain": [
              "<Figure size 1000x700 with 1 Axes>"
            ],
            "image/png": "[encoded data removed]"
          },
          "metadata": {}
        }
      ],
      "source": [
        "with torch.inference_mode():\n",
        "  y_preds = model_0(X_test)\n",
        "# you can do something similar with torch.no_grad(), however, torch.inference_mode() is preferred\n",
        "plot_predictions(predictions= y_preds)"
      ]
    },
    {
      "cell_type": "markdown",
      "metadata": {
        "id": "78t9xttx3-7s"
      },
      "source": [
        "## Training Process\n",
        "\n",
        "### Choosing a Loss Function and Optimizer\n",
        "\n",
        "* **Loss Function**: A function to measure how wrong your models predictions are to the ideal, lower is better\n",
        "\n",
        "[Loss Functions](https://pytorch.org/docs/stable/nn.html#loss-functions)\n",
        "\n",
        "* **Optimizer**: Takes into account the loss of a model and adjusts the models parameters\n",
        "\n",
        "[Optimizer](https://pytorch.org/docs/stable/optim.html)\n",
        "\n",
        "### Training Loop\n",
        "\n",
        "1. Loop through the data\n",
        "2. Forward pass (Data in the Model)\n",
        "3. Calculate the loss\n",
        "4. Optimizer\n",
        "5. Loss backward\n",
        "6. Optimizer step"
      ]
    },
    {
      "cell_type": "code",
      "execution_count": 195,
      "metadata": {
        "id": "mLalzqmo6Lt2"
      },
      "outputs": [],
      "source": [
        "# Loss Function\n",
        "loss_fn = nn.L1Loss()\n",
        "\n",
        "# Optimizer\n",
        "optimizer = torch.optim.SGD(params = model_0.parameters(),\n",
        "                            lr= 0.01) #learning rate)"
      ]
    },
    {
      "cell_type": "code",
      "execution_count": 196,
      "metadata": {
        "id": "PCAhiJB49MKV",
        "colab": {
          "base_uri": "https://localhost:8080/",
          "height": 946
        },
        "outputId": "a1488678-7b17-4603-a01e-0c4e49062629"
      },
      "outputs": [
        {
          "output_type": "stream",
          "name": "stdout",
          "text": [
            "Epoch: 0 | Loss: 0.31288138031959534 | Test loss: 0.48106518387794495\n",
            "Epoch: 10 | Loss: 0.1976713240146637 | Test loss: 0.3463551998138428\n",
            "Epoch: 20 | Loss: 0.08908725529909134 | Test loss: 0.21729660034179688\n",
            "Epoch: 30 | Loss: 0.053148526698350906 | Test loss: 0.14464017748832703\n",
            "Epoch: 40 | Loss: 0.04543796554207802 | Test loss: 0.11360953003168106\n",
            "Epoch: 50 | Loss: 0.04167863354086876 | Test loss: 0.09919948130846024\n",
            "Epoch: 60 | Loss: 0.03818932920694351 | Test loss: 0.08886633068323135\n",
            "Epoch: 70 | Loss: 0.03476089984178543 | Test loss: 0.0805937647819519\n",
            "Epoch: 80 | Loss: 0.03132382780313492 | Test loss: 0.07232122868299484\n",
            "Epoch: 90 | Loss: 0.02788739837706089 | Test loss: 0.06473556160926819\n",
            "Epoch: 100 | Loss: 0.024458957836031914 | Test loss: 0.05646304413676262\n",
            "Epoch: 110 | Loss: 0.021020207554101944 | Test loss: 0.04819049686193466\n",
            "Epoch: 120 | Loss: 0.01758546568453312 | Test loss: 0.04060482233762741\n",
            "Epoch: 130 | Loss: 0.014155393466353416 | Test loss: 0.03233227878808975\n",
            "Epoch: 140 | Loss: 0.010716589167714119 | Test loss: 0.024059748277068138\n",
            "Epoch: 150 | Loss: 0.0072835334576666355 | Test loss: 0.016474086791276932\n",
            "Epoch: 160 | Loss: 0.0038517764769494534 | Test loss: 0.008201557211577892\n",
            "Epoch: 170 | Loss: 0.008932482451200485 | Test loss: 0.005023092031478882\n",
            "Epoch: 180 | Loss: 0.008932482451200485 | Test loss: 0.005023092031478882\n",
            "Epoch: 190 | Loss: 0.008932482451200485 | Test loss: 0.005023092031478882\n"
          ]
        },
        {
          "output_type": "display_data",
          "data": {
            "text/plain": [
              "<Figure size 1000x700 with 1 Axes>"
            ],
            "image/png": "[encoded data removed]"
          },
          "metadata": {}
        }
      ],
      "source": [
        "torch.manual_seed(42)\n",
        "# Training Loop\n",
        "\n",
        "epochs = 200\n",
        "\n",
        "#Tracking Training\n",
        "epoch_counts = []\n",
        "loss_values = []\n",
        "test_loss_values = []\n",
        "\n",
        "# 1. Loop through the data\n",
        "\n",
        "for epoch in range(epochs):\n",
        "  model_0.train() # train mode in PyTorch sets all parameters that require gradients to\n",
        "\n",
        "# 2. Forward pass\n",
        "  y_pred = model_0(X_train)\n",
        "\n",
        "# 3. Calculate the loss\n",
        "  loss = loss_fn(y_pred, y_train)\n",
        "\n",
        "# 4. Optimizer zero grad\n",
        "  optimizer.zero_grad()\n",
        "\n",
        "# 5. Perform backpropagatio\n",
        "  loss.backward()\n",
        "\n",
        "# 6. Step the optimizer (Gradient Descent)\n",
        "  optimizer.step()\n",
        "\n",
        "  model_0.eval() # turns off the gradient tracking\n",
        "\n",
        "  with torch.inference_mode(): #turns off gradient tracking & a couple things\n",
        "    # you may also see torch.no_grad() in older PyTorch code\n",
        "    # 1. Forward pass\n",
        "    y_preds_mew = model_0(X_test)\n",
        "    # 2. Calculate the loss\n",
        "    test_loss = loss_fn(y_preds_mew, y_test)\n",
        "\n",
        "  # Whats happening\n",
        "  if epoch % 10 == 0:\n",
        "    epoch_counts.append(epoch)\n",
        "    loss_values.append(loss)\n",
        "    test_loss_values.append(test_loss)\n",
        "    print(f\"Epoch: {epoch} | Loss: {loss} | Test loss: {test_loss}\")\n",
        "plot_predictions(predictions= y_preds_mew)"
      ]
    },
    {
      "cell_type": "code",
      "source": [
        "model_0.state_dict()"
      ],
      "metadata": {
        "colab": {
          "base_uri": "https://localhost:8080/"
        },
        "id": "quRqTWGbwzsI",
        "outputId": "e8aa1969-0b83-4fed-b279-4ee0c894b597"
      },
      "execution_count": 197,
      "outputs": [
        {
          "output_type": "execute_result",
          "data": {
            "text/plain": [
              "OrderedDict([('weights', tensor([0.6990])), ('bias', tensor([0.3093]))])"
            ]
          },
          "metadata": {},
          "execution_count": 197
        }
      ]
    },
    {
      "cell_type": "code",
      "source": [
        "#Plot the loss cruve\n",
        "plt.plot(epoch_counts, np.array(torch.tensor(loss_values).numpy()), label=\"Train Loss\")\n",
        "plt.plot(epoch_counts, test_loss_values, label=\"Test loss\")\n",
        "plt.title(\"training and test loss curves\")\n",
        "plt.ylabel(\"Loss\")\n",
        "plt.xlabel(\"Epochs\")\n",
        "plt.legend()\n",
        "plt.show()"
      ],
      "metadata": {
        "colab": {
          "base_uri": "https://localhost:8080/",
          "height": 472
        },
        "id": "eFzmnBXIyCGG",
        "outputId": "6ad82d9e-1363-464a-b7d8-d5ad5c766f2b"
      },
      "execution_count": 198,
      "outputs": [
        {
          "output_type": "display_data",
          "data": {
            "text/plain": [
              "<Figure size 640x480 with 1 Axes>"
            ],
            "image/png": "[encoded data removed]"
          },
          "metadata": {}
        }
      ]
    },
    {
      "cell_type": "markdown",
      "source": [
        "## Saving a model in PyTorch\n",
        "\n",
        "There are three main methods for saving and loading models in PyTorch\n",
        "\n",
        "1. ```torch.save()``` - allows you to save a PyTorch object in PyTorch's pockle format\n",
        "2. ```torch.load()```allows you to load a saved PyTorch object\n",
        "3. ```torch.nn.Module.load_state_dict()``` - this allows to load a models's saved state dictionary"
      ],
      "metadata": {
        "id": "G2W6YwHK0Ek3"
      }
    },
    {
      "cell_type": "code",
      "source": [
        "# Saving our PyTorch model\n",
        "\n",
        "from pathlib import Path\n",
        "\n",
        "# 1. Create models directory\n",
        "MODEL_PATH = Path(\"models\")\n",
        "MODEL_PATH.mkdir(parents= True, exist_ok= True)\n",
        "\n",
        "# 2. Create model save path\n",
        "\n",
        "MODEL_NAME = \"01_pytprch_workflow_model_0.pth\"\n",
        "MODEL_SAVE_PATH = MODEL_PATH / MODEL_NAME\n",
        "\n",
        "# 3. Save the model state dict\n",
        "print(f\"Saving model to: {MODEL_SAVE_PATH}\")\n",
        "torch.save(obj= model_0.state_dict(), f= MODEL_SAVE_PATH)"
      ],
      "metadata": {
        "colab": {
          "base_uri": "https://localhost:8080/"
        },
        "id": "XANbMXw41Lgm",
        "outputId": "d34b41a2-43d7-44c4-fd5a-025f2131b314"
      },
      "execution_count": 200,
      "outputs": [
        {
          "output_type": "stream",
          "name": "stdout",
          "text": [
            "Saving model to: models/01_pytprch_workflow_model_0.pth\n"
          ]
        }
      ]
    },
    {
      "cell_type": "markdown",
      "source": [
        "## Loading a saved Model\n",
        "\n",
        "To load in a saved state_dict we have to instantiate a new instance of our model class"
      ],
      "metadata": {
        "id": "UJ6gTQ_52fU4"
      }
    },
    {
      "cell_type": "code",
      "source": [
        "# Loading a PyTorch Model\n",
        "\n",
        "loaded_model_0 = LinearRegressionModel()\n",
        "\n",
        "# Load the saved state_dict\n",
        "loaded_model_0.load_state_dict(torch.load(f= MODEL_SAVE_PATH))\n",
        "\n",
        "print(loaded_model_0.state_dict())"
      ],
      "metadata": {
        "colab": {
          "base_uri": "https://localhost:8080/"
        },
        "id": "0QEAeQr62ufd",
        "outputId": "09cc34b4-8862-4aaf-fa1d-12116b23fea7"
      },
      "execution_count": 201,
      "outputs": [
        {
          "output_type": "stream",
          "name": "stdout",
          "text": [
            "OrderedDict([('weights', tensor([0.6990])), ('bias', tensor([0.3093]))])\n"
          ]
        }
      ]
    },
    {
      "cell_type": "markdown",
      "source": [
        "## Making Predictions with put loaded model"
      ],
      "metadata": {
        "id": "5LjL3TCP3ezv"
      }
    },
    {
      "cell_type": "code",
      "source": [
        "loaded_model_0.eval()\n",
        "with torch.inference_mode():\n",
        "  loaded_model_pred = loaded_model_0(X_test)"
      ],
      "metadata": {
        "colab": {
          "base_uri": "https://localhost:8080/"
        },
        "id": "qrffFu_y3jS8",
        "outputId": "4edccaac-bb3e-410d-8be0-45e965620303"
      },
      "execution_count": 202,
      "outputs": [
        {
          "output_type": "execute_result",
          "data": {
            "text/plain": [
              "tensor([[0.8685],\n",
              "        [0.8825],\n",
              "        [0.8965],\n",
              "        [0.9105],\n",
              "        [0.9245],\n",
              "        [0.9384],\n",
              "        [0.9524],\n",
              "        [0.9664],\n",
              "        [0.9804],\n",
              "        [0.9944]])"
            ]
          },
          "metadata": {},
          "execution_count": 202
        }
      ]
    }
  ],
  "metadata": {
    "colab": {
      "gpuType": "T4",
      "provenance": []
    },
    "kernelspec": {
      "display_name": "Python 3",
      "name": "python3"
    },
    "language_info": {
      "name": "python"
    },
    "accelerator": "GPU"
  },
  "nbformat": 4,
  "nbformat_minor": 0
}