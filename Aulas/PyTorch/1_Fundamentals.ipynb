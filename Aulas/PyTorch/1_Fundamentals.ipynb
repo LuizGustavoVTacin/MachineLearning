{
  "nbformat": 4,
  "nbformat_minor": 0,
  "metadata": {
    "colab": {
      "provenance": [],
      "gpuType": "T4"
    },
    "kernelspec": {
      "name": "python3",
      "display_name": "Python 3"
    },
    "language_info": {
      "name": "python"
    }
  },
  "cells": [
    {
      "cell_type": "markdown",
      "source": [
        "## Machine Learning vs. Deep Learning\n",
        "\n",
        "Machine learning algorithms are better for structured data\n",
        "\n",
        "* Random forest\n",
        "* Gradient boost\n",
        "* Naive Bayes\n",
        "* Nearest neighbour\n",
        "* Support vector machine\n",
        "\n",
        "Deep learing algorithms are better fir unstructured data, as images, words.\n",
        "\n",
        "* Neural Networks\n",
        "* Fully connected neural network\n",
        "* Convolutional neural network\n",
        "* Recurrent neural network\n",
        "* Transformer\n",
        "\n",
        "Depending how you represent your problem, many algorithms can be used for both\n",
        "\n",
        "\n",
        "## Bibliography\n",
        "\n",
        "Trending Research, State of Art, Datasets, Methods and More\n",
        "\n",
        "[https://paperswithcode.com/](https://paperswithcode.com/)\n",
        "\n",
        "PyTorch Course Book (PyTorch for Deep Learning in 2023 Zero to Mastery)\n",
        "\n",
        "[https://www.learnpytorch.io/](https://www.learnpytorch.io/)\n",
        "\n",
        "Course code, projects and slides\n",
        "\n",
        "[https://github.com/mrdbourke/pytorch-deep-learning](https://github.com/mrdbourke/pytorch-deep-learning)\n",
        "\n",
        "Official Website\n",
        "\n",
        "[https://pytorch.org/](https://pytorch.org/)"
      ],
      "metadata": {
        "id": "2Uak588GyAIU"
      }
    },
    {
      "cell_type": "markdown",
      "source": [
        "# Fundamentals\n",
        "\n",
        "!nvidia-smi mostrará a GPU que acelerará a execução"
      ],
      "metadata": {
        "id": "VUlqbSwwQra6"
      }
    },
    {
      "cell_type": "code",
      "source": [
        "# GPU attributes\n",
        "\n",
        "!nvidia-smi"
      ],
      "metadata": {
        "colab": {
          "base_uri": "https://localhost:8080/"
        },
        "id": "lXuRZlDBPrEC",
        "outputId": "69dbcadf-f818-43a0-ca85-b27fc472cb73"
      },
      "execution_count": null,
      "outputs": [
        {
          "output_type": "stream",
          "name": "stdout",
          "text": [
            "/bin/bash: line 1: nvidia-smi: command not found\n"
          ]
        }
      ]
    },
    {
      "cell_type": "code",
      "source": [
        "import torch\n",
        "import pandas as pd\n",
        "import numpy as np\n",
        "import matplotlib.pyplot as plt\n",
        "print(torch.__version__)"
      ],
      "metadata": {
        "colab": {
          "base_uri": "https://localhost:8080/"
        },
        "id": "IHnOImHjQCAi",
        "outputId": "f2926c3d-e23d-4869-9cd0-8d2df4932f43"
      },
      "execution_count": null,
      "outputs": [
        {
          "output_type": "stream",
          "name": "stdout",
          "text": [
            "2.0.1+cu118\n"
          ]
        }
      ]
    },
    {
      "cell_type": "markdown",
      "source": [
        "## Introduction to Tensors\n",
        "\n",
        "Creating tensors"
      ],
      "metadata": {
        "id": "HCN9d81sQ7Za"
      }
    },
    {
      "cell_type": "code",
      "source": [
        "# Scalar\n",
        "\n",
        "scalar = torch.tensor(7)\n",
        "print(scalar)\n",
        "\n",
        "print(\"Number of Dimensions:\", scalar.ndim)\n",
        "\n",
        "# Tensor as a Python int\n",
        "\n",
        "print(\"Scalar as an int:\", scalar.item())"
      ],
      "metadata": {
        "colab": {
          "base_uri": "https://localhost:8080/"
        },
        "id": "EdWT8H0dRAjS",
        "outputId": "3c792abd-bf6c-4077-b2d2-529662b337f6"
      },
      "execution_count": null,
      "outputs": [
        {
          "output_type": "stream",
          "name": "stdout",
          "text": [
            "tensor(7)\n",
            "Number of Dimensions: 0\n",
            "Scalar as an int: 7\n"
          ]
        }
      ]
    },
    {
      "cell_type": "code",
      "source": [
        "# Vector\n",
        "\n",
        "vector = torch.tensor([1,7])\n",
        "print(vector)\n",
        "print(\"Number of Dimensions:\", vector.ndim)\n",
        "print(\"Shape of the tensor:\", vector.shape)"
      ],
      "metadata": {
        "colab": {
          "base_uri": "https://localhost:8080/"
        },
        "id": "xgepnsj4SWcr",
        "outputId": "920aeac0-2c7b-47ae-9515-4b61cf2ef23e"
      },
      "execution_count": null,
      "outputs": [
        {
          "output_type": "stream",
          "name": "stdout",
          "text": [
            "tensor([1, 7])\n",
            "Number of Dimensions: 1\n",
            "Shape of the tensor: torch.Size([2])\n"
          ]
        }
      ]
    },
    {
      "cell_type": "code",
      "source": [
        "# Matrix\n",
        "\n",
        "MATRIX = torch.tensor([[1, 3],[5, 7]])\n",
        "print(MATRIX)\n",
        "print(\"Index at position 0:\", MATRIX[0])"
      ],
      "metadata": {
        "colab": {
          "base_uri": "https://localhost:8080/"
        },
        "id": "fCPEE8mfSuNZ",
        "outputId": "ffb100b7-c06b-4c42-b1b3-9aed1f6e1bf4"
      },
      "execution_count": null,
      "outputs": [
        {
          "output_type": "stream",
          "name": "stdout",
          "text": [
            "tensor([[1, 3],\n",
            "        [5, 7]])\n",
            "Index at position 0: tensor([1, 3])\n"
          ]
        }
      ]
    },
    {
      "cell_type": "code",
      "source": [
        "# Tensor\n",
        "\n",
        "TENSOR = torch.tensor([[[1,2,3],[4,5,6],[7,8,9]]])\n",
        "print(TENSOR)\n",
        "print(\"Number of Dimensions:\", TENSOR.ndim)\n",
        "print(\"Shape of the Tensor:\", TENSOR.shape)"
      ],
      "metadata": {
        "colab": {
          "base_uri": "https://localhost:8080/"
        },
        "id": "QyloDP8yTLck",
        "outputId": "aef7b89b-7748-4ce3-b293-57913a03b06a"
      },
      "execution_count": null,
      "outputs": [
        {
          "output_type": "stream",
          "name": "stdout",
          "text": [
            "tensor([[[1, 2, 3],\n",
            "         [4, 5, 6],\n",
            "         [7, 8, 9]]])\n",
            "Number of Dimensions: 3\n",
            "Shape of the Tensor: torch.Size([1, 3, 3])\n"
          ]
        }
      ]
    },
    {
      "cell_type": "markdown",
      "source": [
        "## Random Tensors\n",
        "\n",
        "1. Start with random numbers\n",
        "2. Look at Data\n",
        "3. Update random numbers\n",
        "4. Look at Data\n",
        "5. Update random numbers"
      ],
      "metadata": {
        "id": "MgeeOoRvUPSb"
      }
    },
    {
      "cell_type": "code",
      "source": [
        "# Create a random tensor of size(3,4)\n",
        "\n",
        "random_tensor = torch.rand(3,4)\n",
        "print(random_tensor)\n",
        "print(\"Number of dimensions:\", random_tensor.ndim)\n",
        "random_tensor2 = torch.rand(2,2,2,2)\n",
        "print(random_tensor2)\n",
        "print(\"Number of dimensions:\", random_tensor2.ndim)"
      ],
      "metadata": {
        "colab": {
          "base_uri": "https://localhost:8080/"
        },
        "id": "rN4JhwE8UhnC",
        "outputId": "0fbeeb50-d182-4eea-cbdb-88f95348a0c7"
      },
      "execution_count": null,
      "outputs": [
        {
          "output_type": "stream",
          "name": "stdout",
          "text": [
            "tensor([[0.0898, 0.0810, 0.0996, 0.3792],\n",
            "        [0.2927, 0.2511, 0.6392, 0.2674],\n",
            "        [0.8970, 0.5887, 0.8343, 0.0362]])\n",
            "Number of dimensions: 2\n",
            "tensor([[[[0.1940, 0.7962],\n",
            "          [0.9821, 0.9852]],\n",
            "\n",
            "         [[0.7883, 0.4789],\n",
            "          [0.8178, 0.4980]]],\n",
            "\n",
            "\n",
            "        [[[0.8179, 0.9288],\n",
            "          [0.9452, 0.0324]],\n",
            "\n",
            "         [[0.5544, 0.9867],\n",
            "          [0.5955, 0.2358]]]])\n",
            "Number of dimensions: 4\n"
          ]
        }
      ]
    },
    {
      "cell_type": "code",
      "source": [
        "# Create a random tensor with similar shape to an image tensor\n",
        "\n",
        "random_image_size_tensor = torch.rand(size= (3,224,224)) #height, width, colour channel\n",
        "random_image_size_tensor.ndim, random_image_size_tensor.shape"
      ],
      "metadata": {
        "colab": {
          "base_uri": "https://localhost:8080/"
        },
        "id": "KhL-T40ZVUtb",
        "outputId": "cc64258e-1134-456b-bb8c-152d04d35da7"
      },
      "execution_count": null,
      "outputs": [
        {
          "output_type": "execute_result",
          "data": {
            "text/plain": [
              "(3, torch.Size([3, 224, 224]))"
            ]
          },
          "metadata": {},
          "execution_count": 8
        }
      ]
    },
    {
      "cell_type": "markdown",
      "source": [
        "## Tensors with Zeros and Ones"
      ],
      "metadata": {
        "id": "tCMRse8bFC2r"
      }
    },
    {
      "cell_type": "code",
      "source": [
        "zeros = torch.zeros(3,4)\n",
        "print(zeros)\n",
        "ones = torch.ones(3,4)\n",
        "print(ones)"
      ],
      "metadata": {
        "colab": {
          "base_uri": "https://localhost:8080/"
        },
        "id": "SVU4d4DbFIOk",
        "outputId": "22c5bd0c-b58e-4e0a-be45-f48abc515dd8"
      },
      "execution_count": null,
      "outputs": [
        {
          "output_type": "stream",
          "name": "stdout",
          "text": [
            "tensor([[0., 0., 0., 0.],\n",
            "        [0., 0., 0., 0.],\n",
            "        [0., 0., 0., 0.]])\n",
            "tensor([[1., 1., 1., 1.],\n",
            "        [1., 1., 1., 1.],\n",
            "        [1., 1., 1., 1.]])\n"
          ]
        }
      ]
    },
    {
      "cell_type": "code",
      "source": [
        "zeros.dtype, ones.dtype"
      ],
      "metadata": {
        "colab": {
          "base_uri": "https://localhost:8080/"
        },
        "id": "0QOD9NFgFoEU",
        "outputId": "afc2f3a9-1865-4b98-d8df-4f6f2734466c"
      },
      "execution_count": null,
      "outputs": [
        {
          "output_type": "execute_result",
          "data": {
            "text/plain": [
              "(torch.float32, torch.float32)"
            ]
          },
          "metadata": {},
          "execution_count": 10
        }
      ]
    },
    {
      "cell_type": "markdown",
      "source": [
        "## Range of Tensors and Tensors-like\n",
        "\n",
        "Tensors-like gets the shape of another tensor and completes with another value"
      ],
      "metadata": {
        "id": "JRU5CbyGF9Qc"
      }
    },
    {
      "cell_type": "code",
      "source": [
        "# Range of Tensors\n",
        "\n",
        "zero_to_nine = torch.arange(0,10)\n",
        "print(zero_to_nine)\n",
        "zero_to_twenty_step = torch.arange(0, 20, 2)\n",
        "print(zero_to_twenty_step)"
      ],
      "metadata": {
        "colab": {
          "base_uri": "https://localhost:8080/"
        },
        "id": "0V_PR0ZMGA1c",
        "outputId": "da2473d1-a898-4c3f-c3dc-8e36cd122689"
      },
      "execution_count": null,
      "outputs": [
        {
          "output_type": "stream",
          "name": "stdout",
          "text": [
            "tensor([0, 1, 2, 3, 4, 5, 6, 7, 8, 9])\n",
            "tensor([ 0,  2,  4,  6,  8, 10, 12, 14, 16, 18])\n"
          ]
        }
      ]
    },
    {
      "cell_type": "code",
      "source": [
        "# Creating tensor like\n",
        "\n",
        "ten_zeros = torch.zeros_like(input= zero_to_nine)\n",
        "print(ten_zeros)"
      ],
      "metadata": {
        "colab": {
          "base_uri": "https://localhost:8080/"
        },
        "id": "dh9HqfamGi78",
        "outputId": "e749966a-fcb1-4338-be06-d3cba0dd36b8"
      },
      "execution_count": null,
      "outputs": [
        {
          "output_type": "stream",
          "name": "stdout",
          "text": [
            "tensor([0, 0, 0, 0, 0, 0, 0, 0, 0, 0])\n"
          ]
        }
      ]
    },
    {
      "cell_type": "markdown",
      "source": [
        "## Tensor datatypes\n",
        "\n",
        "**Note:** Tensor datatypes is one of the 3 big errors you'll run into with PyTorch & deep learning:\n",
        "\n",
        "1. Tensor not right datatype\n",
        "2. Tensors not right shape\n",
        "3. Tensors not on the right device\n",
        "\n",
        "If a Tensor lays in a device and other Tensor lays in another device, making calculations with these 2 Tensors returns an error"
      ],
      "metadata": {
        "id": "vciBdCGKHcRF"
      }
    },
    {
      "cell_type": "code",
      "source": [
        "# Creating a tensor with specific dtype\n",
        "\n",
        "float_16_tensor = torch.tensor([3, 6, 9], dtype= torch.float16)\n",
        "print(float_16_tensor, float_16_tensor.dtype)"
      ],
      "metadata": {
        "colab": {
          "base_uri": "https://localhost:8080/"
        },
        "id": "GTz_3qb8HRHc",
        "outputId": "4fbacd59-e57b-4546-b357-1734502559a9"
      },
      "execution_count": null,
      "outputs": [
        {
          "output_type": "stream",
          "name": "stdout",
          "text": [
            "tensor([3., 6., 9.], dtype=torch.float16) torch.float16\n"
          ]
        }
      ]
    },
    {
      "cell_type": "code",
      "source": [],
      "metadata": {
        "id": "weXwYbGgIhKm"
      },
      "execution_count": null,
      "outputs": []
    },
    {
      "cell_type": "code",
      "source": [
        "float_32_tensor = torch.tensor([3,6,9],\n",
        "                               dtype = None, # What dtype is the tensor\n",
        "                               device = None, # What device is your tensor on (e.g \"cuda\", \"gpu\", \"cpu\")\n",
        "                               requires_grad= False) # Whether or not to track grdients with this tensor operations\n",
        "print(float_32_tensor)"
      ],
      "metadata": {
        "colab": {
          "base_uri": "https://localhost:8080/"
        },
        "id": "eYAT-grvJKGU",
        "outputId": "705f9bdc-d84e-4b73-b4cb-fbb1a46c35b3"
      },
      "execution_count": null,
      "outputs": [
        {
          "output_type": "stream",
          "name": "stdout",
          "text": [
            "tensor([3, 6, 9])\n"
          ]
        }
      ]
    },
    {
      "cell_type": "code",
      "source": [
        "int_tensor = float_16_tensor.type(torch.int)\n",
        "print(int_tensor, int_tensor.dtype)"
      ],
      "metadata": {
        "colab": {
          "base_uri": "https://localhost:8080/"
        },
        "id": "gNER_HYsLwRe",
        "outputId": "3b4a88e9-bf73-4de6-c50d-a6c64d66698a"
      },
      "execution_count": null,
      "outputs": [
        {
          "output_type": "stream",
          "name": "stdout",
          "text": [
            "tensor([3, 6, 9], dtype=torch.int32) torch.int32\n"
          ]
        }
      ]
    },
    {
      "cell_type": "markdown",
      "source": [
        "## Information from tensors"
      ],
      "metadata": {
        "id": "XMg2Zo-3NlV9"
      }
    },
    {
      "cell_type": "code",
      "source": [
        "some_tensor = torch.rand(3,4)\n",
        "print(f\"Tensor dtype: {some_tensor.dtype}\\nTensor shape: {some_tensor.shape} \\nTensor device: {some_tensor.device}\")"
      ],
      "metadata": {
        "colab": {
          "base_uri": "https://localhost:8080/"
        },
        "id": "cjutnUmaNrAy",
        "outputId": "517a017d-f83d-48dd-9cec-ff941df16300"
      },
      "execution_count": null,
      "outputs": [
        {
          "output_type": "stream",
          "name": "stdout",
          "text": [
            "Tensor dtype: torch.float32\n",
            "Tensor shape: torch.Size([3, 4]) \n",
            "Tensor device: cpu\n"
          ]
        }
      ]
    },
    {
      "cell_type": "markdown",
      "source": [
        "## Manipulating Tensors (Tensors Operations)\n",
        "\n",
        "Tensor operations include:\n",
        "\n",
        "1. Addtion\n",
        "2. Subtraction\n",
        "3. Multiplication (element-wise)\n",
        "4. Division\n",
        "5. Matrix Multiplication"
      ],
      "metadata": {
        "id": "5Ukd_-ElPd2e"
      }
    },
    {
      "cell_type": "code",
      "source": [
        "# Create the tensors\n",
        "\n",
        "tensor1 = torch.tensor([1,2,3])\n",
        "\n",
        "# Operations\n",
        "print(f\"Addiction: tensor + 10 = {tensor1 + 10} \\nMultiplication: tensor * 10 = {tensor1 * 10} \\nSubtraction: tensor - 10 = {tensor1 - 10} \\nDivision: tensor / 5 = {tensor1 / 5}\")"
      ],
      "metadata": {
        "colab": {
          "base_uri": "https://localhost:8080/"
        },
        "id": "UxGtGzc_PjLF",
        "outputId": "32a725e0-a2d8-4a58-8906-95dd79c19d1d"
      },
      "execution_count": null,
      "outputs": [
        {
          "output_type": "stream",
          "name": "stdout",
          "text": [
            "Addiction: tensor + 10 = tensor([11, 12, 13]) \n",
            "Multiplication: tensor * 10 = tensor([10, 20, 30]) \n",
            "Subtraction: tensor - 10 = tensor([-9, -8, -7]) \n",
            "Division: tensor / 5 = tensor([0.2000, 0.4000, 0.6000])\n"
          ]
        }
      ]
    },
    {
      "cell_type": "code",
      "source": [
        "# PyTorch in-built functions\n",
        "\n",
        "print(torch.mul(tensor1, 10))\n",
        "print(torch.add(tensor1, 5))"
      ],
      "metadata": {
        "colab": {
          "base_uri": "https://localhost:8080/"
        },
        "id": "a1DJX07UQxVO",
        "outputId": "b5e4b66b-2ecc-49e0-fd21-01d72717a9e9"
      },
      "execution_count": null,
      "outputs": [
        {
          "output_type": "stream",
          "name": "stdout",
          "text": [
            "tensor([10, 20, 30])\n",
            "tensor([6, 7, 8])\n"
          ]
        }
      ]
    },
    {
      "cell_type": "markdown",
      "source": [
        "## Matrix Multiplication"
      ],
      "metadata": {
        "id": "MEF-Gd3bU1Ni"
      }
    },
    {
      "cell_type": "code",
      "source": [
        "# Matrix Multiplication\n",
        "\n",
        "tensor1 = torch.tensor([1,2,3])\n",
        "tensor2 = torch.tensor([[1],[2],[3]])\n",
        "\n",
        "print(f\"Tensor1: {tensor1}, Tensor2:{tensor2}, Mattrix Multiplication: {torch.matmul(tensor1, tensor2)}\")"
      ],
      "metadata": {
        "colab": {
          "base_uri": "https://localhost:8080/"
        },
        "id": "jwOQUSBHRfqG",
        "outputId": "c769e355-13f8-40ab-bb30-1df0e0ee8b09"
      },
      "execution_count": null,
      "outputs": [
        {
          "output_type": "stream",
          "name": "stdout",
          "text": [
            "Tensor1: tensor([1, 2, 3]), Tensor2:tensor([[1],\n",
            "        [2],\n",
            "        [3]]), Mattrix Multiplication: tensor([14])\n"
          ]
        }
      ]
    },
    {
      "cell_type": "code",
      "source": [
        "# Transpose\n",
        "\n",
        "tensor_A = torch.rand(3,2)\n",
        "print(f\"Original matrix: {tensor_A}\")\n",
        "print(f\"Transposed matrix: {tensor_A.T}\")\n",
        "print(tensor_A.shape,tensor_A.T.shape)"
      ],
      "metadata": {
        "colab": {
          "base_uri": "https://localhost:8080/"
        },
        "id": "rhRoDoolUyf8",
        "outputId": "c85b4114-d5c6-41fb-ac24-49e9d7bda648"
      },
      "execution_count": null,
      "outputs": [
        {
          "output_type": "stream",
          "name": "stdout",
          "text": [
            "Original matrix: tensor([[0.5640, 0.9022],\n",
            "        [0.4062, 0.8355],\n",
            "        [0.2290, 0.8610]])\n",
            "Transposed matrix: tensor([[0.5640, 0.4062, 0.2290],\n",
            "        [0.9022, 0.8355, 0.8610]])\n",
            "torch.Size([3, 2]) torch.Size([2, 3])\n"
          ]
        }
      ]
    },
    {
      "cell_type": "markdown",
      "source": [
        "## Tensor Aggregation (Min, Max, Mean, Sum, etc)\n",
        "\n",
        "Mean() function can't work in tensors with long dtypes. It only can be used with floating point or complex dtypes"
      ],
      "metadata": {
        "id": "muBY9lafWpOT"
      }
    },
    {
      "cell_type": "code",
      "source": [
        "x = torch.arange(0,100,10)\n",
        "print(x.min(), x.max(), x.sum(), x.type(torch.float32).mean())"
      ],
      "metadata": {
        "colab": {
          "base_uri": "https://localhost:8080/"
        },
        "id": "PRHq46wVWuPW",
        "outputId": "d839db05-fe87-4001-b106-ca972bb253b2"
      },
      "execution_count": null,
      "outputs": [
        {
          "output_type": "stream",
          "name": "stdout",
          "text": [
            "tensor(0) tensor(90) tensor(450) tensor(45.)\n"
          ]
        }
      ]
    },
    {
      "cell_type": "markdown",
      "source": [
        "## Finding the positional Min and Max"
      ],
      "metadata": {
        "id": "t2rQIQCLaTFn"
      }
    },
    {
      "cell_type": "code",
      "source": [
        "print(x.argmin(), x.argmax())\n",
        "print(x[0], x[x.argmax()])"
      ],
      "metadata": {
        "colab": {
          "base_uri": "https://localhost:8080/"
        },
        "id": "qENu1aL4bB6K",
        "outputId": "8149c817-0c16-4d20-c2fa-95c606204fb5"
      },
      "execution_count": null,
      "outputs": [
        {
          "output_type": "stream",
          "name": "stdout",
          "text": [
            "tensor(0) tensor(9)\n",
            "tensor(0) tensor(90)\n"
          ]
        }
      ]
    },
    {
      "cell_type": "markdown",
      "source": [
        "## Reshaping, Viewing, Stacking, Squeezing and Unsqueezong Tensors\n",
        "\n",
        "1. Reshaping - Reshapes an input tensor to a defined shape\n",
        "2. View - Return a view of an input tensor of certain shape but keep the same memory as the original tensor\n",
        "3. Stacking - Combine multiple tensors on top of each other (vstack) or side by side (hstack)\n",
        "4. Squeezing - Remove all '1' dimensions from a tensor\n",
        "5. Unsqueeze - Add a 1 dimension to a target tensor\n",
        "6. Permute - Return a view of the input with dimencions permuted (swapped) in a certain way"
      ],
      "metadata": {
        "id": "88Bdy7q_bePA"
      }
    },
    {
      "cell_type": "code",
      "source": [
        "y = torch.arange(1., 10.)\n",
        "y, y.shape\n",
        "\n",
        "# Add an extra dimension\n",
        "\n",
        "y_reshaped = y.reshape(1, 9)\n",
        "print(y_reshaped, y.reshape(9,1))"
      ],
      "metadata": {
        "colab": {
          "base_uri": "https://localhost:8080/"
        },
        "id": "u5GXn4TYbjfn",
        "outputId": "519b65b4-388f-490b-d6c5-abdcc31960e5"
      },
      "execution_count": null,
      "outputs": [
        {
          "output_type": "stream",
          "name": "stdout",
          "text": [
            "tensor([[1., 2., 3., 4., 5., 6., 7., 8., 9.]]) tensor([[1.],\n",
            "        [2.],\n",
            "        [3.],\n",
            "        [4.],\n",
            "        [5.],\n",
            "        [6.],\n",
            "        [7.],\n",
            "        [8.],\n",
            "        [9.]])\n"
          ]
        }
      ]
    },
    {
      "cell_type": "code",
      "source": [
        "# Change the view\n",
        "\n",
        "y_view = y.view(1,9)\n",
        "print(y_view, y_view.shape)\n",
        "\n",
        "# Changing y_view changes y (because a view of a tensor shares the same memory)\n",
        "\n",
        "y_view[:,0] = 5\n",
        "print(y, y_view)"
      ],
      "metadata": {
        "colab": {
          "base_uri": "https://localhost:8080/"
        },
        "id": "PzB561LBdMKn",
        "outputId": "4896b3eb-04f0-4058-a9ee-ddf8d875999a"
      },
      "execution_count": null,
      "outputs": [
        {
          "output_type": "stream",
          "name": "stdout",
          "text": [
            "tensor([[1., 2., 3., 4., 5., 6., 7., 8., 9.]]) torch.Size([1, 9])\n",
            "tensor([5., 2., 3., 4., 5., 6., 7., 8., 9.]) tensor([[5., 2., 3., 4., 5., 6., 7., 8., 9.]])\n"
          ]
        }
      ]
    },
    {
      "cell_type": "code",
      "source": [
        "# Stacking tensors on top\n",
        "\n",
        "y_stacked = torch.stack([y,y,y,y], dim= 0) #vstack\n",
        "y_stacked1 = torch.stack([y,y,y,y], dim= 1) #hstack\n",
        "print(y_stacked, y_stacked1)"
      ],
      "metadata": {
        "colab": {
          "base_uri": "https://localhost:8080/"
        },
        "id": "09mc5-Wqd9_w",
        "outputId": "e448e4ee-4f66-42d5-a83a-3a6f7a73bcee"
      },
      "execution_count": null,
      "outputs": [
        {
          "output_type": "stream",
          "name": "stdout",
          "text": [
            "tensor([[5., 2., 3., 4., 5., 6., 7., 8., 9.],\n",
            "        [5., 2., 3., 4., 5., 6., 7., 8., 9.],\n",
            "        [5., 2., 3., 4., 5., 6., 7., 8., 9.],\n",
            "        [5., 2., 3., 4., 5., 6., 7., 8., 9.]]) tensor([[5., 5., 5., 5.],\n",
            "        [2., 2., 2., 2.],\n",
            "        [3., 3., 3., 3.],\n",
            "        [4., 4., 4., 4.],\n",
            "        [5., 5., 5., 5.],\n",
            "        [6., 6., 6., 6.],\n",
            "        [7., 7., 7., 7.],\n",
            "        [8., 8., 8., 8.],\n",
            "        [9., 9., 9., 9.]])\n"
          ]
        }
      ]
    },
    {
      "cell_type": "code",
      "source": [
        "# Squeezing\n",
        "\n",
        "y_squezeed = y_reshaped.squeeze()\n",
        "print(y_squezeed, y_reshaped)\n",
        "tensor1 = torch.rand(2,3)\n",
        "tensor1_squeezed = tensor1.squeeze()\n",
        "print(tensor1, tensor1_squeezed)"
      ],
      "metadata": {
        "colab": {
          "base_uri": "https://localhost:8080/"
        },
        "id": "Dc5YxkGbep8o",
        "outputId": "57e08e7d-7fe2-4dc6-a556-58ce54935f8a"
      },
      "execution_count": null,
      "outputs": [
        {
          "output_type": "stream",
          "name": "stdout",
          "text": [
            "tensor([5., 2., 3., 4., 5., 6., 7., 8., 9.]) tensor([[5., 2., 3., 4., 5., 6., 7., 8., 9.]])\n",
            "tensor([[0.3771, 0.4516, 0.2860],\n",
            "        [0.9273, 0.0822, 0.6966]]) tensor([[0.3771, 0.4516, 0.2860],\n",
            "        [0.9273, 0.0822, 0.6966]])\n"
          ]
        }
      ]
    },
    {
      "cell_type": "code",
      "source": [
        "# Unsqueezing\n",
        "\n",
        "y_unsqueezed = y_reshaped.unsqueeze(dim = 0)\n",
        "print(y_reshaped.shape, y_unsqueezed.shape)\n",
        "y_unsqueezed = y_reshaped.unsqueeze(dim = 1)\n",
        "print(y_reshaped.shape, y_unsqueezed.shape)\n",
        "y_unsqueezed = y_reshaped.unsqueeze(dim = 2)\n",
        "print(y_reshaped.shape, y_unsqueezed.shape)\n",
        "y_unsqueezed = y_reshaped.unsqueeze(dim = -1)\n",
        "print(y_reshaped.shape, y_unsqueezed.shape)\n",
        "y_unsqueezed = y_reshaped.unsqueeze(dim = -2)\n",
        "print(y_reshaped.shape, y_unsqueezed.shape)"
      ],
      "metadata": {
        "colab": {
          "base_uri": "https://localhost:8080/"
        },
        "id": "2Q3_B0rdfwef",
        "outputId": "1b231e5e-119e-4342-cef3-0fb70f20e5dd"
      },
      "execution_count": null,
      "outputs": [
        {
          "output_type": "stream",
          "name": "stdout",
          "text": [
            "torch.Size([1, 9]) torch.Size([1, 1, 9])\n",
            "torch.Size([1, 9]) torch.Size([1, 1, 9])\n",
            "torch.Size([1, 9]) torch.Size([1, 9, 1])\n",
            "torch.Size([1, 9]) torch.Size([1, 9, 1])\n",
            "torch.Size([1, 9]) torch.Size([1, 1, 9])\n"
          ]
        }
      ]
    },
    {
      "cell_type": "code",
      "source": [
        "# Permuting\n",
        "\n",
        "# Change the order of the dimensions\n",
        "\n",
        "y = torch.rand(1,2,3)\n",
        "print(y.shape, y.permute(2,0,1).shape)"
      ],
      "metadata": {
        "colab": {
          "base_uri": "https://localhost:8080/"
        },
        "id": "FZlnkzOZgwZR",
        "outputId": "f52ad673-9016-46a7-ddf6-e8532be61b39"
      },
      "execution_count": null,
      "outputs": [
        {
          "output_type": "stream",
          "name": "stdout",
          "text": [
            "torch.Size([1, 2, 3]) torch.Size([3, 1, 2])\n"
          ]
        }
      ]
    },
    {
      "cell_type": "markdown",
      "source": [
        "## Indexing (Selectiong data from tensors)"
      ],
      "metadata": {
        "id": "yoNiepaShzom"
      }
    },
    {
      "cell_type": "code",
      "source": [
        "# Index\n",
        "\n",
        "x = torch.arange(1,10).reshape(1,3,3)\n",
        "print(x, x.shape)\n",
        "\n",
        "# Index on the middle bracket (dim=1)\n",
        "print(x[0][0])\n",
        "\n",
        "# Index on the most inner bracket (last dimension)\n",
        "\n",
        "print(x[0][0][0])"
      ],
      "metadata": {
        "colab": {
          "base_uri": "https://localhost:8080/"
        },
        "id": "vrZ73svNh29I",
        "outputId": "817e1efb-2c61-4bac-e746-fcb162ae5e87"
      },
      "execution_count": null,
      "outputs": [
        {
          "output_type": "stream",
          "name": "stdout",
          "text": [
            "tensor([[[1, 2, 3],\n",
            "         [4, 5, 6],\n",
            "         [7, 8, 9]]]) torch.Size([1, 3, 3])\n",
            "tensor([1, 2, 3])\n",
            "tensor(1)\n"
          ]
        }
      ]
    },
    {
      "cell_type": "code",
      "source": [
        "# Using \":\" to select the target dimension\n",
        "\n",
        "x[:,0]"
      ],
      "metadata": {
        "colab": {
          "base_uri": "https://localhost:8080/"
        },
        "id": "9xvvX94iivSO",
        "outputId": "c86fafe1-d85b-4a6f-9411-c54c663f2b40"
      },
      "execution_count": null,
      "outputs": [
        {
          "output_type": "execute_result",
          "data": {
            "text/plain": [
              "tensor([[1, 2, 3]])"
            ]
          },
          "metadata": {},
          "execution_count": 90
        }
      ]
    },
    {
      "cell_type": "markdown",
      "source": [
        "## PyTorch Tensors with Numpy\n",
        "\n",
        "* Data in Numpy to PyTorch Tensor: torch.from_numpy(ndarray)\n",
        "* PyTorch Tensor to Numpy: torch.Tensor.numpy()\n",
        "\n",
        "Numpy default dtype is float64, so when a numpy array is converted to pytorch tensor, the tensor dtype will be float64."
      ],
      "metadata": {
        "id": "anBhyOTkjVL5"
      }
    },
    {
      "cell_type": "code",
      "source": [
        "# Numpy array to tensor\n",
        "\n",
        "array = np.arange(1,8)\n",
        "tensor = torch.from_numpy(array)\n",
        "array.dtype, tensor.dtype"
      ],
      "metadata": {
        "colab": {
          "base_uri": "https://localhost:8080/"
        },
        "id": "Sd3VMYYfjZLx",
        "outputId": "8a40360e-7e51-4caf-a97e-fe0e8650ee88"
      },
      "execution_count": null,
      "outputs": [
        {
          "output_type": "execute_result",
          "data": {
            "text/plain": [
              "(dtype('int64'), torch.int64)"
            ]
          },
          "metadata": {},
          "execution_count": 93
        }
      ]
    },
    {
      "cell_type": "code",
      "source": [
        "# Converting numpy to pytorch or vice-versa creates a memory allocation,\n",
        "# so when the array or the tensor is changed there wont be any change in the other variable\n",
        "\n",
        "tensor = torch.ones(7)\n",
        "numpy_tensor = tensor.numpy()\n",
        "tensor.dtype, numpy_tensor.dtype"
      ],
      "metadata": {
        "colab": {
          "base_uri": "https://localhost:8080/"
        },
        "id": "ctj5hPe5qkAp",
        "outputId": "9197f930-2436-4ad8-ed48-b355c7e1c7e5"
      },
      "execution_count": null,
      "outputs": [
        {
          "output_type": "execute_result",
          "data": {
            "text/plain": [
              "(torch.float32, dtype('float32'))"
            ]
          },
          "metadata": {},
          "execution_count": 94
        }
      ]
    },
    {
      "cell_type": "markdown",
      "source": [
        "## Reproducibility (trying to take random out of randim)\n",
        "\n",
        "To reduce the randomness in neural networks an PyTorch comes the concept of a **random seed**.\n",
        "\n",
        "Essentially what the random seed does is \"flavour\" the randomness"
      ],
      "metadata": {
        "id": "WGiLe5QtrYup"
      }
    },
    {
      "cell_type": "code",
      "source": [
        "# Set the random seed\n",
        "RANDOM_SEED = 1\n",
        "torch.manual_seed(RANDOM_SEED)\n",
        "random_tensor_A = torch.rand(3,4)\n",
        "\n",
        "torch.manual_seed(RANDOM_SEED)\n",
        "random_tensor_B = torch.rand(3,4)\n",
        "\n",
        "print(random_tensor_A)\n",
        "print(random_tensor_B)\n",
        "\n"
      ],
      "metadata": {
        "colab": {
          "base_uri": "https://localhost:8080/"
        },
        "id": "8gwihs8Cr7th",
        "outputId": "ab628f0e-dfd0-4749-e359-00b100802e83"
      },
      "execution_count": null,
      "outputs": [
        {
          "output_type": "stream",
          "name": "stdout",
          "text": [
            "tensor([[0.7576, 0.2793, 0.4031, 0.7347],\n",
            "        [0.0293, 0.7999, 0.3971, 0.7544],\n",
            "        [0.5695, 0.4388, 0.6387, 0.5247]])\n",
            "tensor([[0.7576, 0.2793, 0.4031, 0.7347],\n",
            "        [0.0293, 0.7999, 0.3971, 0.7544],\n",
            "        [0.5695, 0.4388, 0.6387, 0.5247]])\n"
          ]
        }
      ]
    },
    {
      "cell_type": "markdown",
      "source": [
        "## PyTorch objects on the GPUs\n",
        "\n",
        "1. Easiest - Use Google Colab\n",
        "2. Use your own GPU\n",
        "3. Use Cloud computing - GCP, AWS, Azure\n",
        "\n",
        "For 2,3, PyTorch + GPU (CUDA) takes a bit of setting up"
      ],
      "metadata": {
        "id": "qc9B3JKVteWy"
      }
    },
    {
      "cell_type": "code",
      "source": [
        "# Check for GPU access with PyTorch\n",
        "\n",
        "torch.cuda.is_available()"
      ],
      "metadata": {
        "colab": {
          "base_uri": "https://localhost:8080/"
        },
        "id": "odxiOcYxuh8Z",
        "outputId": "fe073181-3f25-4648-de32-697dc826ab67"
      },
      "execution_count": null,
      "outputs": [
        {
          "output_type": "execute_result",
          "data": {
            "text/plain": [
              "False"
            ]
          },
          "metadata": {},
          "execution_count": 103
        }
      ]
    },
    {
      "cell_type": "code",
      "source": [
        "# Setup device agnostic code\n",
        "\n",
        "device = \"cuda\" if torch.cuda.is_available() else \"cpu\""
      ],
      "metadata": {
        "id": "6aFYxBbTuwNW"
      },
      "execution_count": null,
      "outputs": []
    },
    {
      "cell_type": "code",
      "source": [
        "# Count number os devices\n",
        "\n",
        "torch.cuda.device_count()"
      ],
      "metadata": {
        "colab": {
          "base_uri": "https://localhost:8080/"
        },
        "id": "2rg5ebsWu8fi",
        "outputId": "42c216c7-415d-475b-a836-68645b0eb217"
      },
      "execution_count": null,
      "outputs": [
        {
          "output_type": "execute_result",
          "data": {
            "text/plain": [
              "0"
            ]
          },
          "metadata": {},
          "execution_count": 107
        }
      ]
    },
    {
      "cell_type": "markdown",
      "source": [
        "## Puttong tensor (and models) on the GPU"
      ],
      "metadata": {
        "id": "G1aTC9XmvZvO"
      }
    },
    {
      "cell_type": "code",
      "source": [
        "# Create a tensor\n",
        "tensor = torch.tensor([1,2,3])\n",
        "\n",
        "# Tensor not on GPU\n",
        "print(tensor, tensor.device)\n",
        "\n",
        "#Move tensor to GPU (if available)\n",
        "\n",
        "tensor_on_gpu = tensor.to(device)\n",
        "print(tensor_on_gpu)\n",
        "\n",
        "# Moving tensor to CPU\n",
        "# If tensor is on GPU, can't transform it to Numpy\n",
        "tensor_to_cpu = tensor_on_gpu.cpu()\n",
        "print(tensor_to_cpu.device)"
      ],
      "metadata": {
        "colab": {
          "base_uri": "https://localhost:8080/"
        },
        "id": "BHGn9u3jvidb",
        "outputId": "38c16192-28b9-4e6c-cbd2-bc8aee7b9ad8"
      },
      "execution_count": null,
      "outputs": [
        {
          "output_type": "stream",
          "name": "stdout",
          "text": [
            "tensor([1, 2, 3]) cpu\n",
            "tensor([1, 2, 3])\n",
            "cpu\n"
          ]
        }
      ]
    }
  ]
}