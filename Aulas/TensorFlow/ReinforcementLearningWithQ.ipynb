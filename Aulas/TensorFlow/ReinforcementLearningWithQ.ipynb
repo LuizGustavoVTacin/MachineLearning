{
 "cells": [
  {
   "attachments": {},
   "cell_type": "markdown",
   "metadata": {},
   "source": [
    "# **Reinforcement Learning**\n",
    "\n",
    "### **Terminology**\n",
    "\n",
    "* Environment: The world in which the agent operates\n",
    "* Agent: The learner\n",
    "* State: The current situation of the agent\n",
    "* Action: The move that the agent makes\n",
    "* Reward: The score that the agent gets at each step\n"
   ]
  },
  {
   "attachments": {},
   "cell_type": "markdown",
   "metadata": {},
   "source": [
    "### **Q-Learning**\n",
    "\n",
    "Q-Learning is a model-free reinforcement learning algorithm to learn the value of an action in a particular state. It does not require a model of the environment and can handle problems with stochastic transitions and rewards, without requiring adaptations.\n",
    "\n",
    "Example:\n",
    "\n",
    "A1 - A4 represents the actions that the agent can take and the values represents the reward that the agent gets for taking that action.\n",
    "\n",
    "A1 | A2 | A3 | A4\n",
    "--- | --- | --- | ---\n",
    "0 | 0 | 10 | 5\n",
    "5 | 10 | 0 | 0\n",
    "10 | 5 | 0 | 0\n",
    "\n",
    "State 1: A3\n",
    "\n",
    "State 2: A2\n",
    "\n",
    "State 3: A1"
   ]
  },
  {
   "cell_type": "code",
   "execution_count": 27,
   "metadata": {},
   "outputs": [],
   "source": [
    "import gym # Biblioteca de ambientes de aprendizado por reforço da OpenAI"
   ]
  },
  {
   "attachments": {},
   "cell_type": "markdown",
   "metadata": {},
   "source": [
    "### Load an environment"
   ]
  },
  {
   "cell_type": "code",
   "execution_count": 28,
   "metadata": {},
   "outputs": [
    {
     "name": "stderr",
     "output_type": "stream",
     "text": [
      "c:\\Python311\\Lib\\site-packages\\gym\\envs\\registration.py:563: UserWarning: \u001b[33mWARN: Using the latest versioned environment `FrozenLake-v1` instead of the unversioned environment `FrozenLake`.\u001b[0m\n",
      "  logger.warn(\n"
     ]
    }
   ],
   "source": [
    "env = gym.make('FrozenLake') # Cria o ambiente Frozenlake-v0"
   ]
  },
  {
   "cell_type": "code",
   "execution_count": 29,
   "metadata": {},
   "outputs": [
    {
     "name": "stdout",
     "output_type": "stream",
     "text": [
      "16\n",
      "4\n"
     ]
    }
   ],
   "source": [
    "print(env.observation_space.n) # Número de estados\n",
    "print(env.action_space.n) # Número de ações"
   ]
  },
  {
   "cell_type": "code",
   "execution_count": 30,
   "metadata": {},
   "outputs": [
    {
     "data": {
      "text/plain": [
       "(0, {'prob': 1})"
      ]
     },
     "execution_count": 30,
     "metadata": {},
     "output_type": "execute_result"
    }
   ],
   "source": [
    "env.reset() # Reinicia o ambiente"
   ]
  },
  {
   "cell_type": "code",
   "execution_count": 31,
   "metadata": {},
   "outputs": [
    {
     "name": "stdout",
     "output_type": "stream",
     "text": [
      "2\n"
     ]
    }
   ],
   "source": [
    "action = env.action_space.sample() # Seleciona uma ação aleatória\n",
    "print(action)"
   ]
  },
  {
   "cell_type": "code",
   "execution_count": 32,
   "metadata": {},
   "outputs": [],
   "source": [
    "step_result = env.step(action) # Executa a ação selecionada\n",
    "new_state = step_result[0] # Novo estado\n",
    "reward = step_result[1] # Recompensa\n",
    "done = step_result[2] # Flag de fim de episódio\n",
    "info = step_result[3] # Informações adicionais"
   ]
  },
  {
   "cell_type": "code",
   "execution_count": 33,
   "metadata": {},
   "outputs": [
    {
     "name": "stderr",
     "output_type": "stream",
     "text": [
      "c:\\Python311\\Lib\\site-packages\\gym\\envs\\toy_text\\frozen_lake.py:271: UserWarning: \u001b[33mWARN: You are calling render method without specifying any render mode. You can specify the render_mode at initialization, e.g. gym(\"FrozenLake-v1\", render_mode=\"rgb_array\")\u001b[0m\n",
      "  logger.warn(\n"
     ]
    }
   ],
   "source": [
    "env.render() # Renderiza o ambiente"
   ]
  },
  {
   "attachments": {},
   "cell_type": "markdown",
   "metadata": {},
   "source": [
    "### **Building the Q-Table**"
   ]
  },
  {
   "cell_type": "code",
   "execution_count": 35,
   "metadata": {},
   "outputs": [
    {
     "name": "stderr",
     "output_type": "stream",
     "text": [
      "c:\\Python311\\Lib\\site-packages\\gym\\envs\\registration.py:563: UserWarning: \u001b[33mWARN: Using the latest versioned environment `FrozenLake-v1` instead of the unversioned environment `FrozenLake`.\u001b[0m\n",
      "  logger.warn(\n"
     ]
    }
   ],
   "source": [
    "import gym\n",
    "import numpy as np\n",
    "import time\n",
    "\n",
    "env = gym.make('FrozenLake')\n",
    "STATES = env.observation_space.n\n",
    "ACTIONS = env.action_space.n"
   ]
  },
  {
   "cell_type": "code",
   "execution_count": 37,
   "metadata": {},
   "outputs": [
    {
     "name": "stdout",
     "output_type": "stream",
     "text": [
      "[[0. 0. 0. 0.]\n",
      " [0. 0. 0. 0.]\n",
      " [0. 0. 0. 0.]\n",
      " [0. 0. 0. 0.]\n",
      " [0. 0. 0. 0.]\n",
      " [0. 0. 0. 0.]\n",
      " [0. 0. 0. 0.]\n",
      " [0. 0. 0. 0.]\n",
      " [0. 0. 0. 0.]\n",
      " [0. 0. 0. 0.]\n",
      " [0. 0. 0. 0.]\n",
      " [0. 0. 0. 0.]\n",
      " [0. 0. 0. 0.]\n",
      " [0. 0. 0. 0.]\n",
      " [0. 0. 0. 0.]\n",
      " [0. 0. 0. 0.]]\n"
     ]
    }
   ],
   "source": [
    "Q = np.zeros((STATES, ACTIONS)) # Tabela Q\n",
    "print(Q)"
   ]
  },
  {
   "attachments": {},
   "cell_type": "markdown",
   "metadata": {},
   "source": [
    "### **Constants**"
   ]
  },
  {
   "cell_type": "code",
   "execution_count": 45,
   "metadata": {},
   "outputs": [],
   "source": [
    "EPISODES = 1500 # Número de episódios\n",
    "MAX_STEPS = 100 # Máximo de passos por episódio\n",
    "LEARNING_RATE = 0.81 # Taxa de aprendizado\n",
    "GAMMA = 0.96 # Fator de desconto"
   ]
  },
  {
   "attachments": {},
   "cell_type": "markdown",
   "metadata": {},
   "source": [
    "### **Picking an action**"
   ]
  },
  {
   "cell_type": "code",
   "execution_count": 46,
   "metadata": {},
   "outputs": [],
   "source": [
    "epslion = 0.9 # Start with a 90% chance of picking a random action\n",
    "\n",
    "# Code to pick action\n",
    "if np.random.uniform(0, 1) < epslion: # We will check if a randomly selected value is less than epsilon.\n",
    "    action = env.action_space.sample() # Take random action\n",
    "else:\n",
    "    action = np.argmax(Q[state, :]) # Use Q table to pick best action based on current values"
   ]
  },
  {
   "attachments": {},
   "cell_type": "markdown",
   "metadata": {},
   "source": [
    "### **Updating the Q-value**"
   ]
  },
  {
   "cell_type": "code",
   "execution_count": 49,
   "metadata": {},
   "outputs": [
    {
     "ename": "IndexError",
     "evalue": "only integers, slices (`:`), ellipsis (`...`), numpy.newaxis (`None`) and integer or boolean arrays are valid indices",
     "output_type": "error",
     "traceback": [
      "\u001b[1;31m---------------------------------------------------------------------------\u001b[0m",
      "\u001b[1;31mIndexError\u001b[0m                                Traceback (most recent call last)",
      "Cell \u001b[1;32mIn[49], line 1\u001b[0m\n\u001b[1;32m----> 1\u001b[0m Q[state, action] \u001b[39m=\u001b[39m Q[state, action] \u001b[39m+\u001b[39m LEARNING_RATE \u001b[39m*\u001b[39m (reward \u001b[39m+\u001b[39m GAMMA \u001b[39m*\u001b[39m np\u001b[39m.\u001b[39mmax(Q[new_state, :]\u001b[39m.\u001b[39mastype(\u001b[39mint\u001b[39m)) \u001b[39m-\u001b[39m Q[state, action])\n",
      "\u001b[1;31mIndexError\u001b[0m: only integers, slices (`:`), ellipsis (`...`), numpy.newaxis (`None`) and integer or boolean arrays are valid indices"
     ]
    }
   ],
   "source": [
    "Q[state, action] = Q[state, action] + LEARNING_RATE * (reward + GAMMA * np.max(Q[new_state, :].astype(int)) - Q[state, action])"
   ]
  },
  {
   "cell_type": "code",
   "execution_count": 44,
   "metadata": {},
   "outputs": [
    {
     "name": "stderr",
     "output_type": "stream",
     "text": [
      "c:\\Python311\\Lib\\site-packages\\gym\\envs\\toy_text\\frozen_lake.py:271: UserWarning: \u001b[33mWARN: You are calling render method without specifying any render mode. You can specify the render_mode at initialization, e.g. gym(\"FrozenLake-v1\", render_mode=\"rgb_array\")\u001b[0m\n",
      "  logger.warn(\n"
     ]
    },
    {
     "ename": "IndexError",
     "evalue": "only integers, slices (`:`), ellipsis (`...`), numpy.newaxis (`None`) and integer or boolean arrays are valid indices",
     "output_type": "error",
     "traceback": [
      "\u001b[1;31m---------------------------------------------------------------------------\u001b[0m",
      "\u001b[1;31mIndexError\u001b[0m                                Traceback (most recent call last)",
      "Cell \u001b[1;32mIn[44], line 15\u001b[0m\n\u001b[0;32m     13\u001b[0m reward \u001b[39m=\u001b[39m step_result[\u001b[39m1\u001b[39m]\n\u001b[0;32m     14\u001b[0m done \u001b[39m=\u001b[39m step_result[\u001b[39m2\u001b[39m]\n\u001b[1;32m---> 15\u001b[0m Q[state, action] \u001b[39m=\u001b[39m Q[state, action] \u001b[39m+\u001b[39m LEARNING_RATE \u001b[39m*\u001b[39m (reward \u001b[39m+\u001b[39m GAMMA \u001b[39m*\u001b[39m np\u001b[39m.\u001b[39mmax(Q[next_state, :]) \u001b[39m-\u001b[39m Q[state, action])\n\u001b[0;32m     16\u001b[0m state \u001b[39m=\u001b[39m next_state\n\u001b[0;32m     17\u001b[0m \u001b[39mif\u001b[39;00m done:\n",
      "\u001b[1;31mIndexError\u001b[0m: only integers, slices (`:`), ellipsis (`...`), numpy.newaxis (`None`) and integer or boolean arrays are valid indices"
     ]
    }
   ],
   "source": [
    "rewards = []\n",
    "for episode in range(EPISODES):\n",
    "\n",
    "    state = env.reset()\n",
    "    for _ in range(MAX_STEPS):\n",
    "        env.render()\n",
    "        if np.random.uniform(0, 1) < epslion:\n",
    "            action = env.action_space.sample()\n",
    "        else:\n",
    "            action = np.argmax(Q[state, :])\n",
    "        step_result = env.step(action)\n",
    "        next_state = step_result[0]\n",
    "        reward = step_result[1]\n",
    "        done = step_result[2]\n",
    "        Q[state, action] = Q[state, action] + LEARNING_RATE * (reward + GAMMA * np.max(Q[next_state, :]) - Q[state, action])\n",
    "        state = next_state\n",
    "        if done:\n",
    "            rewards.append(reward)\n",
    "            epslion -= 0.001\n",
    "            break\n",
    "print(Q)\n",
    "print(f\"Average reward: {sum(rewards)/len(rewards)}:\")"
   ]
  },
  {
   "cell_type": "code",
   "execution_count": 51,
   "metadata": {},
   "outputs": [
    {
     "data": {
      "image/png": "[encoded data removed]",
      "text/plain": [
       "<Figure size 640x480 with 1 Axes>"
      ]
     },
     "metadata": {},
     "output_type": "display_data"
    }
   ],
   "source": [
    "import matplotlib.pyplot as plt\n",
    "\n",
    "def get_average(values):\n",
    "    return sum(values)/len(values)\n",
    "\n",
    "avg_rewards = []\n",
    "for i in range(0, len(rewards), 100):\n",
    "    avg_rewards.append(get_average(rewards[i:i+100]))\n",
    "\n",
    "plt.plot(avg_rewards)\n",
    "plt.ylabel('average reward')\n",
    "plt.xlabel('episodes (100\\'s)')\n",
    "plt.show()"
   ]
  }
 ],
 "metadata": {
  "kernelspec": {
   "display_name": "Python 3",
   "language": "python",
   "name": "python3"
  },
  "language_info": {
   "codemirror_mode": {
    "name": "ipython",
    "version": 3
   },
   "file_extension": ".py",
   "mimetype": "text/x-python",
   "name": "python",
   "nbconvert_exporter": "python",
   "pygments_lexer": "ipython3",
   "version": "3.11.3"
  },
  "orig_nbformat": 4
 },
 "nbformat": 4,
 "nbformat_minor": 2
}
