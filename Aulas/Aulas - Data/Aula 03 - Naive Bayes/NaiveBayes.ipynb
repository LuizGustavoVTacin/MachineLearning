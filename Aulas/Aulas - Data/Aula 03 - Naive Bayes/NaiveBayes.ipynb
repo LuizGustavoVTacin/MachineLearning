{
 "cells": [
  {
   "attachments": {},
   "cell_type": "markdown",
   "metadata": {},
   "source": [
    "Teorema de Bayes:\n",
    "\n",
    "$P(A|B)$ = $\\frac{P(B|A)P(A)}{P(B)}$\n",
    "\n",
    "sendo $P(B|A)$ a probabilidade condicional de B dado A."
   ]
  },
  {
   "attachments": {},
   "cell_type": "markdown",
   "metadata": {},
   "source": [
    "Classificador Naive Bayes:\n",
    "\n",
    "Para cada entrada x, predizer a classe y em que aquele valor provavelmete pertence.\n",
    "\n",
    "Para o treinamento do classificador, o dataset terá N pares (x,y) de exemplos resolvidos. "
   ]
  },
  {
   "attachments": {},
   "cell_type": "markdown",
   "metadata": {},
   "source": [
    "Distribuição dos dados:\n",
    "\n",
    "$P(x,y)$ = $P(x)P(y|x)$\n",
    "\n",
    "$P(x)$ é a distribuição dos dados de entrada\n",
    "\n",
    "$P(y|x)$ é a distribuição condicional da saída dada a entrada"
   ]
  },
  {
   "attachments": {},
   "cell_type": "markdown",
   "metadata": {},
   "source": [
    "A utilização de $P(y|x)$ nem sempre ocorre da melhor forma, já que é necessário obter o valor de $P(y|x)$ e nem sempre isso é possível. Portanto, a implementação do classificador é feita por aproximações de $P(y|x)$"
   ]
  },
  {
   "attachments": {},
   "cell_type": "markdown",
   "metadata": {},
   "source": [
    "Uma das formas de obter $P(x|y)$ é através da contagem de ocorrências no dataset.\n",
    "\n",
    "No caso da classificação de emails como spam, inicia-se contando a ocorrência de palavras únicas.\n",
    "\n",
    "Por exemplo, no dataset há 265 emails que possuem a palavra 'Vendas' e, deste total, 199 são classificados como spam. Portanto, neste caso, $P(y|x)$ para email que contenham 'Vendas' é de $\\frac{199}{265}$ = 75%.\n",
    "\n",
    "Em email que 'Vendas' não estão presentes, por exemplo, há 5307 e, dentro destes, 548 eram spam. Portanto $P(y|x)$ para emails que não contém 'Vendas' é de $\\frac{548}{5307}$ = 10%"
   ]
  },
  {
   "attachments": {},
   "cell_type": "markdown",
   "metadata": {},
   "source": [
    "Analisar uma palavra não é suficiente para o classificador. Desta forma, é preciso analisar, também, palavras em conjunto, como, por exemplo, 'Vendas hoje'"
   ]
  },
  {
   "attachments": {},
   "cell_type": "markdown",
   "metadata": {},
   "source": [
    "Como não é viável contruir um dataset contendo as combinações de todas as palavras e classificá-los como spam ou não, a sáida é associar várias palavras à classificação.\n",
    "\n",
    "$P(x_1, x_2, ..., x_n|y)$ = $P(x_1|y) * P(x_2|y) * ... * P(x_n|y)$"
   ]
  },
  {
   "cell_type": "code",
   "execution_count": 37,
   "metadata": {},
   "outputs": [],
   "source": [
    "import numpy as np\n",
    "import pandas as pd\n",
    "import matplotlib.pyplot as plt\n",
    "import seaborn as sns"
   ]
  },
  {
   "cell_type": "code",
   "execution_count": 38,
   "metadata": {},
   "outputs": [
    {
     "name": "stdout",
     "output_type": "stream",
     "text": [
      "   Id  SepalLengthCm  SepalWidthCm  PetalLengthCm  PetalWidthCm Species\n",
      "0   1            5.1           3.5            1.4           0.2  Setosa\n",
      "1   2            4.9           3.0            1.4           0.2  Setosa\n",
      "2   3            4.7           3.2            1.3           0.2  Setosa\n",
      "3   4            4.6           3.1            1.5           0.2  Setosa\n",
      "4   5            5.0           3.6            1.4           0.2  Setosa\n"
     ]
    }
   ],
   "source": [
    "df = pd.read_csv('Iris.csv')\n",
    "\n",
    "# Extract the color from the fourth column\n",
    "df['Species'] = df['Species'].str.replace('Iris-', '').apply(lambda x: x.capitalize())\n",
    "\n",
    "# Print the updated dataframe\n",
    "print(df.head())"
   ]
  },
  {
   "attachments": {},
   "cell_type": "markdown",
   "metadata": {},
   "source": [
    "$$P(Y|X) = \\frac{P(X|Y)P(Y)}{P(X)}$$\n",
    "\n",
    "$$P(Y|X_0,X_1,X_2,X_3) = \\frac{P(X_0,X_1,X_2,X_3|Y)P(Y)}{P(X_0,X_1,X_2,X_3)}$$\n",
    "\n",
    "\n",
    " Supondo independência:\n",
    "\n",
    "\n",
    " $$P(Y|X_0,X_1,X_2,X_3) = \\frac{P(X_0|Y)P(X_1|Y)P(X_2|Y)P(X_3|Y)P(Y)}{P(X_0,X_1,X_2,X_3)} $$\n",
    "\n",
    " Como as features são contínuas, vamo supor que sua distribuição condicionada a $Y$ é dada por uma Normal, ou seja, \n",
    "\n",
    " $$ P(X_i|Y) \\sim N(\\mu,\\sigma) $$\n",
    "\n",
    "\n",
    " Mas como calculamos $ P(X) $ ?\n",
    "\n",
    " Usando Probabilidade Marginal!\n",
    "\n",
    " $$P(X) = \\Sigma_{Y = 0}^{Y<3} P(X_0|Y)P(X_1|Y)P(X_2|Y)P(X_3|Y)P(Y) $$"
   ]
  },
  {
   "attachments": {},
   "cell_type": "markdown",
   "metadata": {},
   "source": [
    "Cada Condicional é dada por:\n",
    "\n",
    "$$ P(X_i|Y) = \\frac{1}{\\sqrt{2 \\pi \\sigma ^2}} e ^{ -\\frac{1}{2} (\\frac{x-\\mu}{\\sigma})^2 }$$"
   ]
  },
  {
   "cell_type": "code",
   "execution_count": 39,
   "metadata": {},
   "outputs": [
    {
     "data": {
      "text/plain": [
       "0.3989422804014327"
      ]
     },
     "execution_count": 39,
     "metadata": {},
     "output_type": "execute_result"
    }
   ],
   "source": [
    "from math import e\n",
    "from math import pi\n",
    "\n",
    "\n",
    "def gaussian( x , mu, sigma ):\n",
    "  return (1/(2*pi*sigma*sigma)**0.5) * e ** ((-1/2) * (((x-mu)/(sigma))**2) ) \n",
    "\n",
    "\n",
    "gaussian(0,0,1)"
   ]
  },
  {
   "cell_type": "code",
   "execution_count": 40,
   "metadata": {},
   "outputs": [],
   "source": [
    "from sklearn.model_selection import train_test_split\n",
    "\n",
    "X = df.drop('Species',axis=1)\n",
    "y = df['Species']\n",
    "\n",
    "X_train, X_test, y_train, y_test = train_test_split(X, y, test_size=0.33, random_state=42)"
   ]
  },
  {
   "cell_type": "code",
   "execution_count": 41,
   "metadata": {},
   "outputs": [],
   "source": [
    "class ContinuousNB():\n",
    "  \n",
    "  def __init__(self, f):\n",
    "    self.f = f\n",
    "\n",
    "  def fit(self,X,y):\n",
    "    # para cada classe de y, calcular média e desvio padrao para cada feature\n",
    "    # está na ordem SepalLengthCm  SepalWidthCm  PetalLengthCm  PetalWidthCm\n",
    "    X['Y'] = y\n",
    "    \n",
    "    self.mean_versicolor = X.loc[ X['Y'] == 'Versicolor'].mean().values.tolist()\n",
    "    print(self.mean_versicolor)\n",
    "    self.mean_virginica = X.loc[ X['Y'] == 'Virginica'].mean().values.tolist()\n",
    "    self.mean_setosa = X.loc[ X['Y'] == 'Setosa'].mean().values.tolist()\n",
    "\n",
    "    self.std_versicolor = X.loc[ X['Y'] == 'Versicolor'].std().values.tolist()\n",
    "    self.std_virginica = X.loc[ X['Y'] == 'Virginica'].std().values.tolist()\n",
    "    self.std_setosa = X.loc[ X['Y'] == 'Setosa'].std().values.tolist()\n",
    "\n",
    "    self.p_versicolor = X.loc[ X['Y'] == 'Versicolor'].shape[0]/X.shape[0]\n",
    "    self.p_virginica = X.loc[ X['Y'] == 'Virginica'].shape[0]/X.shape[0]\n",
    "    self.p_setosa = X.loc[ X['Y'] == 'Setosa'].shape[0]/X.shape[0]\n",
    "\n",
    "\n",
    "  def predict(self,X):\n",
    "\n",
    "    pred = []\n",
    "\n",
    "    for instance in X.values:\n",
    "      p_x_given_versicolor = self.f(instance[0],self.mean_versicolor[0],self.std_versicolor[0]) * self.f(instance[1],self.mean_versicolor[1],self.std_versicolor[1]) * self.f(instance[2],self.mean_versicolor[2],self.std_versicolor[2]) * self.f(instance[3],self.mean_versicolor[3],self.std_versicolor[3])\n",
    "      p_x_given_virginica = self.f(instance[0],self.mean_virginica[0],self.std_virginica[0]) * self.f(instance[1],self.mean_virginica[1],self.std_virginica[1]) * self.f(instance[2],self.mean_virginica[2],self.std_virginica[2]) * self.f(instance[3],self.mean_virginica[3],self.std_virginica[3])\n",
    "      p_x_given_setosa = self.f(instance[0],self.mean_setosa[0],self.std_setosa[0]) * self.f(instance[1],self.mean_setosa[1],self.std_setosa[1]) * self.f(instance[2],self.mean_setosa[2],self.std_setosa[2]) * self.f(instance[3],self.mean_setosa[3],self.std_setosa[3])\n",
    "      \n",
    "      p_x = p_x_given_versicolor*self.p_versicolor + p_x_given_virginica*self.p_virginica + p_x_given_setosa*self.p_setosa\n",
    "\n",
    "\n",
    "      p_y_given_x = np.zeros(3)\n",
    "\n",
    "      p_y_given_x[0] = (p_x_given_versicolor*self.p_versicolor)/p_x\n",
    "      p_y_given_x[1] = (p_x_given_virginica*self.p_virginica)/p_x\n",
    "      p_y_given_x[2] = (p_x_given_setosa*self.p_setosa)/p_x\n",
    "\n",
    "      if np.argmax(p_y_given_x) == 0:\n",
    "        pred.append('Versicolor')\n",
    "      elif np.argmax(p_y_given_x) == 1:\n",
    "        pred.append('Virginica')\n",
    "      else:\n",
    "        pred.append('Setosa')\n",
    "        \n",
    "    return pred"
   ]
  },
  {
   "cell_type": "code",
   "execution_count": 42,
   "metadata": {},
   "outputs": [
    {
     "name": "stdout",
     "output_type": "stream",
     "text": [
      "[77.02857142857142, 5.851428571428571, 2.7257142857142855, 4.22, 1.3085714285714285]\n"
     ]
    },
    {
     "name": "stderr",
     "output_type": "stream",
     "text": [
      "/tmp/ipykernel_7081/4178827371.py:11: FutureWarning: The default value of numeric_only in DataFrame.mean is deprecated. In a future version, it will default to False. In addition, specifying 'numeric_only=None' is deprecated. Select only valid columns or specify the value of numeric_only to silence this warning.\n",
      "  self.mean_versicolor = X.loc[ X['Y'] == 'Versicolor'].mean().values.tolist()\n",
      "/tmp/ipykernel_7081/4178827371.py:13: FutureWarning: The default value of numeric_only in DataFrame.mean is deprecated. In a future version, it will default to False. In addition, specifying 'numeric_only=None' is deprecated. Select only valid columns or specify the value of numeric_only to silence this warning.\n",
      "  self.mean_virginica = X.loc[ X['Y'] == 'Virginica'].mean().values.tolist()\n",
      "/tmp/ipykernel_7081/4178827371.py:14: FutureWarning: The default value of numeric_only in DataFrame.mean is deprecated. In a future version, it will default to False. In addition, specifying 'numeric_only=None' is deprecated. Select only valid columns or specify the value of numeric_only to silence this warning.\n",
      "  self.mean_setosa = X.loc[ X['Y'] == 'Setosa'].mean().values.tolist()\n",
      "/tmp/ipykernel_7081/4178827371.py:16: FutureWarning: The default value of numeric_only in DataFrame.std is deprecated. In a future version, it will default to False. In addition, specifying 'numeric_only=None' is deprecated. Select only valid columns or specify the value of numeric_only to silence this warning.\n",
      "  self.std_versicolor = X.loc[ X['Y'] == 'Versicolor'].std().values.tolist()\n",
      "/tmp/ipykernel_7081/4178827371.py:17: FutureWarning: The default value of numeric_only in DataFrame.std is deprecated. In a future version, it will default to False. In addition, specifying 'numeric_only=None' is deprecated. Select only valid columns or specify the value of numeric_only to silence this warning.\n",
      "  self.std_virginica = X.loc[ X['Y'] == 'Virginica'].std().values.tolist()\n",
      "/tmp/ipykernel_7081/4178827371.py:18: FutureWarning: The default value of numeric_only in DataFrame.std is deprecated. In a future version, it will default to False. In addition, specifying 'numeric_only=None' is deprecated. Select only valid columns or specify the value of numeric_only to silence this warning.\n",
      "  self.std_setosa = X.loc[ X['Y'] == 'Setosa'].std().values.tolist()\n"
     ]
    }
   ],
   "source": [
    "model = ContinuousNB(gaussian)\n",
    "model.fit(X_train,y_train)\n",
    "y_pred = model.predict(X_test)"
   ]
  },
  {
   "cell_type": "code",
   "execution_count": 43,
   "metadata": {},
   "outputs": [
    {
     "data": {
      "text/plain": [
       "1.0"
      ]
     },
     "execution_count": 43,
     "metadata": {},
     "output_type": "execute_result"
    }
   ],
   "source": [
    "from sklearn.metrics import accuracy_score\n",
    "\n",
    "accuracy_score(y_test,y_pred)"
   ]
  },
  {
   "cell_type": "code",
   "execution_count": 44,
   "metadata": {},
   "outputs": [
    {
     "data": {
      "text/plain": [
       "Text(113.9222222222222, 0.5, 'Predicted')"
      ]
     },
     "execution_count": 44,
     "metadata": {},
     "output_type": "execute_result"
    },
    {
     "data": {
      "image/png": "[encoded data removed]",
      "text/plain": [
       "<Figure size 640x480 with 1 Axes>"
      ]
     },
     "metadata": {},
     "output_type": "display_data"
    }
   ],
   "source": [
    "from sklearn.metrics import confusion_matrix\n",
    "\n",
    "mat = confusion_matrix(y_pred, y_test)\n",
    "names = np.unique(y_pred)\n",
    "sns.heatmap(mat, square=True, annot=True, fmt='d', cbar=False,\n",
    "            xticklabels=names, yticklabels=names)\n",
    "plt.xlabel('Truth')\n",
    "plt.ylabel('Predicted')"
   ]
  }
 ],
 "metadata": {
  "kernelspec": {
   "display_name": "Python 3",
   "language": "python",
   "name": "python3"
  },
  "language_info": {
   "codemirror_mode": {
    "name": "ipython",
    "version": 3
   },
   "file_extension": ".py",
   "mimetype": "text/x-python",
   "name": "python",
   "nbconvert_exporter": "python",
   "pygments_lexer": "ipython3",
   "version": "3.10.6"
  },
  "orig_nbformat": 4
 },
 "nbformat": 4,
 "nbformat_minor": 2
}
