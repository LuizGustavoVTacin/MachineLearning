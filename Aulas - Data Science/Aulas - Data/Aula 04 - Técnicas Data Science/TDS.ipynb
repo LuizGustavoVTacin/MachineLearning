{
 "cells": [
  {
   "attachments": {},
   "cell_type": "markdown",
   "metadata": {},
   "source": [
    "Dados categóricos:\n",
    "\n",
    "* Label Encoding:\n",
    "\n",
    "Transformação de dados categóricos em números.\n",
    "\n",
    "* One-Hot-Encoding:\n",
    "\n",
    "Transformação de dados categóricos em matrizes.\n",
    "\n",
    "* Target Encoding:\n",
    "\n",
    "Transformação de dados categóricos em numéricos contínuos."
   ]
  },
  {
   "attachments": {},
   "cell_type": "markdown",
   "metadata": {},
   "source": [
    "Dados numéricos:\n",
    "\n",
    "* Normalization: $z_i$ = $\\frac{x_i - min(x)}{max(x) - min(x)}$\n",
    "\n",
    "* Standardization: $z_i$ = $\\frac{x_i - \\mu}{\\sigma}$"
   ]
  },
  {
   "attachments": {},
   "cell_type": "markdown",
   "metadata": {},
   "source": [
    "Métricas:\n",
    "\n",
    "* Acurácia: $A$ = $\\frac{Numero de Acertos}{Numero Total}$\n",
    "\n",
    "* Matriz de Confusão: Medirá os falsos positivos(FP), positvos verdadeiros(PV), falsos negativos(FN) e negativos verdadeiros(NV).\n",
    "\n",
    "$$A = \\frac{TP + PV}{TP + PV + FN + NV}$$\n",
    "\n",
    "* Precisão: $P$ = $\\frac{TP}{TP + FP}$\n",
    "\n",
    "* Recall: $R$ = $\\frac{TP}{TP + FN}$\n",
    "\n",
    "* F1 Score: $F_1$ = $2 \\cdot \\frac{Precisao \\cdot Precisao}{Precisao + Recall}$"
   ]
  },
  {
   "attachments": {},
   "cell_type": "markdown",
   "metadata": {},
   "source": [
    "Otimização de Modelos:\n",
    "\n",
    "* Grid Search: Consiste na combinação de hiperparâmetros para obter o melhor intervalo dos parâmetros\n",
    "\n",
    "* Otimização Bayesiana: Utilização do teorema de Bayes para a obtenção dos conjuntos\n",
    "\n",
    "* Algoritmos Evolutivos e Métodos Bioinspirados"
   ]
  }
 ],
 "metadata": {
  "language_info": {
   "name": "python"
  },
  "orig_nbformat": 4
 },
 "nbformat": 4,
 "nbformat_minor": 2
}
