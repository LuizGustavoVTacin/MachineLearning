{
 "cells": [
  {
   "attachments": {},
   "cell_type": "markdown",
   "metadata": {},
   "source": [
    "Análise Exploratória de Dados consiste na investigação e entendimento das características dos dados a serem utilizados."
   ]
  },
  {
   "attachments": {},
   "cell_type": "markdown",
   "metadata": {},
   "source": [
    "Dados podem ser de dois tipos:\n",
    "\n",
    "* Numéricos\n",
    "\n",
    "Dados numéricos consiste em valores numéricos para a descrição de uma característica. Podem ser divididos entre discretos e contínuos, sendo discretos os dados de valores únicos que descrevem o objeto, como idade. Já dados contínuos referem-se a números únicos que pertencem ao intervalo, como altura, rende. \n",
    "\n",
    "* Categóricos\n",
    "\n",
    "Dados categóricos são traduzidos por palavras que descrevem o objeto. Podem ser divididos entre ordinais e nominais, sendo ordinais os dados que atribuem hierarquias aos dados, como qualidade, cargo. Já os dados nominais utilizam características do objeto, como gênero e etnia."
   ]
  },
  {
   "attachments": {},
   "cell_type": "markdown",
   "metadata": {},
   "source": [
    "A visualiação dos dados numéricos pode ser feita por meio de histogramas, de forma que os dados são separados por intervalos de pertencimento."
   ]
  },
  {
   "cell_type": "code",
   "execution_count": 6,
   "metadata": {},
   "outputs": [
    {
     "data": {
      "image/png": "[encoded data removed]",
      "text/plain": [
       "<Figure size 640x480 with 1 Axes>"
      ]
     },
     "metadata": {},
     "output_type": "display_data"
    }
   ],
   "source": [
    "import numpy as np\n",
    "import matplotlib.pyplot as plt\n",
    "\n",
    "dados = np.random.randint(0,100,100)\n",
    "plt.hist(dados, bins=8)\n",
    "plt.show()"
   ]
  },
  {
   "attachments": {},
   "cell_type": "markdown",
   "metadata": {},
   "source": [
    "Estatísticas Descriticas:\n",
    "\n",
    "Utilização de ferramentas estatísticas para retirar informações do dataset.\n",
    "\n",
    "* Medidas de Centralidade: Média, Mediana e Moda\n",
    "\n",
    "* Medidas de Disperção: Desvio padrão, Variância, Distância interquartílica, Valores máximo e mínimo\n",
    "\n",
    "* Outros: Quartis e Percentis"
   ]
  },
  {
   "attachments": {},
   "cell_type": "markdown",
   "metadata": {},
   "source": [
    "* Medidas de Centralidade:\n",
    "\n",
    "Média: $\\frac{\\sum{x_i}}{n}$\n",
    "\n",
    "Mediana: $\\frac{(n+1)}{2}$\n",
    "\n",
    "Moda: Valor com maior número de ocorrências"
   ]
  },
  {
   "attachments": {},
   "cell_type": "markdown",
   "metadata": {},
   "source": [
    "Em datasets cujo dados não estejam distribuídos próximos ao centro, medidas de centralidade não são eficazes"
   ]
  },
  {
   "attachments": {},
   "cell_type": "markdown",
   "metadata": {},
   "source": [
    "* Medidas de Dispersão:\n",
    "\n",
    "Desvio padrão: $\\sqrt{\\frac{(x_i - x)²}{n-1}}$\n",
    "\n",
    "Variância: $\\frac{\\sum_{i = 1}^n{(X_i - X)²}}{n-1}$\n",
    "\n",
    "Máximo e Mínimo: valores máximos e mínimos"
   ]
  },
  {
   "attachments": {},
   "cell_type": "markdown",
   "metadata": {},
   "source": [
    "* Quartis:\n",
    "\n",
    "Medianas para pedaços dos dados\n",
    "\n",
    "Permite visualização de parte de dados"
   ]
  },
  {
   "attachments": {},
   "cell_type": "markdown",
   "metadata": {},
   "source": [
    "* Percentis:\n",
    "\n",
    "Similar aos quartis, mas para porcentagens"
   ]
  },
  {
   "attachments": {},
   "cell_type": "markdown",
   "metadata": {},
   "source": [
    "Correlações:\n",
    "\n",
    "Comparar os componentes de dados entre si\n",
    "\n",
    "Correlação de Pearson: r = $\\frac{n(\\sum{xy}) - (\\sum{x})(\\sum{y})}{\\sqrt{[n\\sum{x^2 - (\\sum{x})²}][n\\sum{y²} - (\\sum{y})²]}}$\n",
    "\n",
    "Se r = +1, então, quando uma variável aumenta, a outra aumenta na mesma proporção. Se r = -1, quando uma variável aumenta, a outra diminui na mesma proporção. Quando r = 0, não há relação linear entre as variáveis.\n",
    "\n",
    "Correlação Spearman: $r_s = 1 - \\frac{6 \\sum_{i= 1}^{n}{d_i²}}{n³ - n}$\n",
    "\n",
    "Se $r_s$ = +1, então, quando uma variável aumenta, a outra aumenta, mas não necessariamente na mesma proporção. Se $r_s$ = -1, então, quando uma variável aumenta, a outra diminui não necessariamente na mesma proporção. Se $r_s$ = 0, não há relação entre as variáveis."
   ]
  }
 ],
 "metadata": {
  "kernelspec": {
   "display_name": "Python 3",
   "language": "python",
   "name": "python3"
  },
  "language_info": {
   "codemirror_mode": {
    "name": "ipython",
    "version": 3
   },
   "file_extension": ".py",
   "mimetype": "text/x-python",
   "name": "python",
   "nbconvert_exporter": "python",
   "pygments_lexer": "ipython3",
   "version": "3.10.6"
  },
  "orig_nbformat": 4
 },
 "nbformat": 4,
 "nbformat_minor": 2
}
